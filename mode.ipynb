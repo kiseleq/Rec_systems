{
 "cells": [
  {
   "cell_type": "code",
   "execution_count": 13,
   "metadata": {},
   "outputs": [
    {
     "name": "stdout",
     "output_type": "stream",
     "text": [
      "utils.py загружен\n"
     ]
    },
    {
     "name": "stderr",
     "output_type": "stream",
     "text": [
      "/Users/andrey_kiseleq/Documents/vs_code/itmo/rec_systems/.venv/lib/python3.9/site-packages/sklearn/utils/extmath.py:203: RuntimeWarning:\n",
      "\n",
      "divide by zero encountered in matmul\n",
      "\n",
      "/Users/andrey_kiseleq/Documents/vs_code/itmo/rec_systems/.venv/lib/python3.9/site-packages/sklearn/utils/extmath.py:203: RuntimeWarning:\n",
      "\n",
      "overflow encountered in matmul\n",
      "\n",
      "/Users/andrey_kiseleq/Documents/vs_code/itmo/rec_systems/.venv/lib/python3.9/site-packages/sklearn/utils/extmath.py:203: RuntimeWarning:\n",
      "\n",
      "invalid value encountered in matmul\n",
      "\n"
     ]
    }
   ],
   "source": [
    "import pandas as pd\n",
    "import sys\n",
    "sys.path.append('.')  # Добавляем текущую директорию в путь поиска модулей\n",
    "from utils import search_history\n",
    "from utils import make_recommendations\n",
    "\n",
    "\n",
    "user_actions = search_history(user_id=666, user_type=3)\n",
    "homes = pd.read_csv('data/homes_fixed_scaled.csv')\n",
    "recs = make_recommendations(homes, user_actions)"
   ]
  },
  {
   "cell_type": "code",
   "execution_count": 18,
   "metadata": {},
   "outputs": [],
   "source": [
    "final_recommendations = recs\n",
    "homes_fixed = homes.copy()"
   ]
  },
  {
   "cell_type": "code",
   "execution_count": 19,
   "metadata": {
    "colab": {
     "base_uri": "https://localhost:8080/"
    },
    "executionInfo": {
     "elapsed": 96,
     "status": "ok",
     "timestamp": 1743226085667,
     "user": {
      "displayName": "Андрей Киселёв",
      "userId": "12642439380291679610"
     },
     "user_tz": -180
    },
    "id": "NebWbZs2YZqL",
    "outputId": "48a0d2cd-0d5f-48d3-b343-e5d33cb3826b"
   },
   "outputs": [
    {
     "name": "stdout",
     "output_type": "stream",
     "text": [
      "User 666: t_stat = -0.00778, p_val = 0.99390\n",
      "Доля пользователей, у которых нет статистически значимой разницы: 100.00%\n"
     ]
    }
   ],
   "source": [
    "# Создадим структуру для хранения результатов тестов\n",
    "stat_test_results = {}\n",
    "\n",
    "# Выполнение t-теста для каждого пользователя\n",
    "for user in final_recommendations.keys():\n",
    "    interacted_obj_ids = user_actions[user_actions['user_id'] == user]['obj_id']\n",
    "    recommended_obj_ids = final_recommendations[user]\n",
    "\n",
    "    interacted_objects = homes_fixed.loc[homes_fixed.index.intersection(interacted_obj_ids)]\n",
    "    recommended_objects = homes_fixed.loc[homes_fixed.index.intersection(recommended_obj_ids)]\n",
    "\n",
    "    if not interacted_objects.empty and not recommended_objects.empty:\n",
    "        # Средние значения по объектам\n",
    "        interacted_mean = interacted_objects.mean(axis=0)\n",
    "        recommended_mean = recommended_objects.mean(axis=0)\n",
    "\n",
    "        # Проведение t-теста\n",
    "        t_stat, p_val = ttest_ind(interacted_mean, recommended_mean, equal_var=False, nan_policy='omit')\n",
    "\n",
    "        # Сохранение результатов\n",
    "        stat_test_results[user] = {'t_stat': t_stat, 'p_val': p_val}\n",
    "\n",
    "        # Вывод результатов для каждого пользователя\n",
    "        print(f'User {user}: t_stat = {t_stat:.5f}, p_val = {p_val:.5f}')\n",
    "\n",
    "# Преобразуем в DataFrame для удобного анализа\n",
    "stat_test_results_df = pd.DataFrame.from_dict(stat_test_results, orient='index')\n",
    "\n",
    "# Подсчет доли пользователей, у которых p_val > 0.05\n",
    "no_significant_diff_ratio = (stat_test_results_df['p_val'] > 0.05).mean()\n",
    "print(f'Доля пользователей, у которых нет статистически значимой разницы: {no_significant_diff_ratio:.2%}')\n"
   ]
  },
  {
   "cell_type": "markdown",
   "metadata": {
    "id": "9fGAL3XPZUnc"
   },
   "source": [
    "если p_val > 0.05, то нет оснований полагать, что есть стат. значимая разница => рекомендации были хорошими для всех юзеров"
   ]
  },
  {
   "cell_type": "code",
   "execution_count": null,
   "metadata": {
    "id": "j0i6sSoXXZ-U"
   },
   "outputs": [],
   "source": []
  }
 ],
 "metadata": {
  "colab": {
   "provenance": []
  },
  "kernelspec": {
   "display_name": ".venv",
   "language": "python",
   "name": "python3"
  },
  "language_info": {
   "codemirror_mode": {
    "name": "ipython",
    "version": 3
   },
   "file_extension": ".py",
   "mimetype": "text/x-python",
   "name": "python",
   "nbconvert_exporter": "python",
   "pygments_lexer": "ipython3",
   "version": "3.9.6"
  }
 },
 "nbformat": 4,
 "nbformat_minor": 0
}
