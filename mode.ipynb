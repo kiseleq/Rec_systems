{
 "cells": [
  {
   "cell_type": "code",
   "execution_count": 1,
   "metadata": {},
   "outputs": [
    {
     "name": "stdout",
     "output_type": "stream",
     "text": [
      "utils.py загр\n"
     ]
    },
    {
     "name": "stderr",
     "output_type": "stream",
     "text": [
      "/Users/andrey_kiseleq/Documents/vs_code/itmo/rec_systems/.venv/lib/python3.9/site-packages/sklearn/utils/extmath.py:203: RuntimeWarning:\n",
      "\n",
      "divide by zero encountered in matmul\n",
      "\n",
      "/Users/andrey_kiseleq/Documents/vs_code/itmo/rec_systems/.venv/lib/python3.9/site-packages/sklearn/utils/extmath.py:203: RuntimeWarning:\n",
      "\n",
      "overflow encountered in matmul\n",
      "\n",
      "/Users/andrey_kiseleq/Documents/vs_code/itmo/rec_systems/.venv/lib/python3.9/site-packages/sklearn/utils/extmath.py:203: RuntimeWarning:\n",
      "\n",
      "invalid value encountered in matmul\n",
      "\n"
     ]
    },
    {
     "data": {
      "text/html": [
       "<div>\n",
       "<style scoped>\n",
       "    .dataframe tbody tr th:only-of-type {\n",
       "        vertical-align: middle;\n",
       "    }\n",
       "\n",
       "    .dataframe tbody tr th {\n",
       "        vertical-align: top;\n",
       "    }\n",
       "\n",
       "    .dataframe thead th {\n",
       "        text-align: right;\n",
       "    }\n",
       "</style>\n",
       "<table border=\"1\" class=\"dataframe\">\n",
       "  <thead>\n",
       "    <tr style=\"text-align: right;\">\n",
       "      <th></th>\n",
       "      <th>id</th>\n",
       "      <th>price</th>\n",
       "      <th>level</th>\n",
       "      <th>rooms</th>\n",
       "      <th>area</th>\n",
       "      <th>kitchen_area</th>\n",
       "      <th>geo_lat</th>\n",
       "      <th>geo_lon</th>\n",
       "    </tr>\n",
       "  </thead>\n",
       "  <tbody>\n",
       "    <tr>\n",
       "      <th>0</th>\n",
       "      <td>588</td>\n",
       "      <td>5516100</td>\n",
       "      <td>5</td>\n",
       "      <td>-1</td>\n",
       "      <td>24.30</td>\n",
       "      <td>0.0</td>\n",
       "      <td>55.754047</td>\n",
       "      <td>37.620405</td>\n",
       "    </tr>\n",
       "    <tr>\n",
       "      <th>1</th>\n",
       "      <td>675</td>\n",
       "      <td>5658000</td>\n",
       "      <td>4</td>\n",
       "      <td>-1</td>\n",
       "      <td>28.29</td>\n",
       "      <td>0.0</td>\n",
       "      <td>55.668127</td>\n",
       "      <td>37.737237</td>\n",
       "    </tr>\n",
       "    <tr>\n",
       "      <th>2</th>\n",
       "      <td>684</td>\n",
       "      <td>5658000</td>\n",
       "      <td>4</td>\n",
       "      <td>-1</td>\n",
       "      <td>28.29</td>\n",
       "      <td>0.0</td>\n",
       "      <td>55.668127</td>\n",
       "      <td>37.737237</td>\n",
       "    </tr>\n",
       "    <tr>\n",
       "      <th>3</th>\n",
       "      <td>88</td>\n",
       "      <td>5541998</td>\n",
       "      <td>10</td>\n",
       "      <td>-1</td>\n",
       "      <td>24.00</td>\n",
       "      <td>0.0</td>\n",
       "      <td>55.575745</td>\n",
       "      <td>37.435046</td>\n",
       "    </tr>\n",
       "    <tr>\n",
       "      <th>4</th>\n",
       "      <td>593</td>\n",
       "      <td>5741767</td>\n",
       "      <td>9</td>\n",
       "      <td>-1</td>\n",
       "      <td>24.07</td>\n",
       "      <td>0.0</td>\n",
       "      <td>55.754047</td>\n",
       "      <td>37.620405</td>\n",
       "    </tr>\n",
       "    <tr>\n",
       "      <th>5</th>\n",
       "      <td>789</td>\n",
       "      <td>5421314</td>\n",
       "      <td>4</td>\n",
       "      <td>-1</td>\n",
       "      <td>24.40</td>\n",
       "      <td>0.0</td>\n",
       "      <td>55.742435</td>\n",
       "      <td>37.707553</td>\n",
       "    </tr>\n",
       "    <tr>\n",
       "      <th>6</th>\n",
       "      <td>685</td>\n",
       "      <td>5658000</td>\n",
       "      <td>10</td>\n",
       "      <td>-1</td>\n",
       "      <td>28.29</td>\n",
       "      <td>0.0</td>\n",
       "      <td>55.668127</td>\n",
       "      <td>37.737237</td>\n",
       "    </tr>\n",
       "    <tr>\n",
       "      <th>7</th>\n",
       "      <td>61</td>\n",
       "      <td>5791200</td>\n",
       "      <td>6</td>\n",
       "      <td>-1</td>\n",
       "      <td>25.40</td>\n",
       "      <td>0.0</td>\n",
       "      <td>55.516860</td>\n",
       "      <td>37.349500</td>\n",
       "    </tr>\n",
       "    <tr>\n",
       "      <th>8</th>\n",
       "      <td>567</td>\n",
       "      <td>5536250</td>\n",
       "      <td>4</td>\n",
       "      <td>-1</td>\n",
       "      <td>21.50</td>\n",
       "      <td>0.0</td>\n",
       "      <td>55.754047</td>\n",
       "      <td>37.620405</td>\n",
       "    </tr>\n",
       "    <tr>\n",
       "      <th>9</th>\n",
       "      <td>835</td>\n",
       "      <td>5616300</td>\n",
       "      <td>3</td>\n",
       "      <td>-1</td>\n",
       "      <td>29.10</td>\n",
       "      <td>0.0</td>\n",
       "      <td>55.891209</td>\n",
       "      <td>37.577463</td>\n",
       "    </tr>\n",
       "  </tbody>\n",
       "</table>\n",
       "</div>"
      ],
      "text/plain": [
       "    id    price  level  rooms   area  kitchen_area    geo_lat    geo_lon\n",
       "0  588  5516100      5     -1  24.30           0.0  55.754047  37.620405\n",
       "1  675  5658000      4     -1  28.29           0.0  55.668127  37.737237\n",
       "2  684  5658000      4     -1  28.29           0.0  55.668127  37.737237\n",
       "3   88  5541998     10     -1  24.00           0.0  55.575745  37.435046\n",
       "4  593  5741767      9     -1  24.07           0.0  55.754047  37.620405\n",
       "5  789  5421314      4     -1  24.40           0.0  55.742435  37.707553\n",
       "6  685  5658000     10     -1  28.29           0.0  55.668127  37.737237\n",
       "7   61  5791200      6     -1  25.40           0.0  55.516860  37.349500\n",
       "8  567  5536250      4     -1  21.50           0.0  55.754047  37.620405\n",
       "9  835  5616300      3     -1  29.10           0.0  55.891209  37.577463"
      ]
     },
     "execution_count": 1,
     "metadata": {},
     "output_type": "execute_result"
    }
   ],
   "source": [
    "import pandas as pd\n",
    "import sys\n",
    "sys.path.append('.')  # Добавляем текущую директорию в путь поиска модулей\n",
    "from utils import rec_system\n",
    "\n",
    "user_id=666\n",
    "user_type=1\n",
    "\n",
    "test = rec_system(1)\n",
    "test"
   ]
  },
  {
   "cell_type": "code",
   "execution_count": null,
   "metadata": {},
   "outputs": [],
   "source": []
  },
  {
   "cell_type": "code",
   "execution_count": null,
   "metadata": {},
   "outputs": [],
   "source": []
  },
  {
   "cell_type": "code",
   "execution_count": 19,
   "metadata": {
    "colab": {
     "base_uri": "https://localhost:8080/"
    },
    "executionInfo": {
     "elapsed": 96,
     "status": "ok",
     "timestamp": 1743226085667,
     "user": {
      "displayName": "Андрей Киселёв",
      "userId": "12642439380291679610"
     },
     "user_tz": -180
    },
    "id": "NebWbZs2YZqL",
    "outputId": "48a0d2cd-0d5f-48d3-b343-e5d33cb3826b"
   },
   "outputs": [
    {
     "name": "stdout",
     "output_type": "stream",
     "text": [
      "User 666: t_stat = -0.00778, p_val = 0.99390\n",
      "Доля пользователей, у которых нет статистически значимой разницы: 100.00%\n"
     ]
    }
   ],
   "source": [
    "# Создадим структуру для хранения результатов тестов\n",
    "stat_test_results = {}\n",
    "\n",
    "# Выполнение t-теста для каждого пользователя\n",
    "for user in final_recommendations.keys():\n",
    "    interacted_obj_ids = user_actions[user_actions['user_id'] == user]['obj_id']\n",
    "    recommended_obj_ids = final_recommendations[user]\n",
    "\n",
    "    interacted_objects = homes_fixed.loc[homes_fixed.index.intersection(interacted_obj_ids)]\n",
    "    recommended_objects = homes_fixed.loc[homes_fixed.index.intersection(recommended_obj_ids)]\n",
    "\n",
    "    if not interacted_objects.empty and not recommended_objects.empty:\n",
    "        # Средние значения по объектам\n",
    "        interacted_mean = interacted_objects.mean(axis=0)\n",
    "        recommended_mean = recommended_objects.mean(axis=0)\n",
    "\n",
    "        # Проведение t-теста\n",
    "        t_stat, p_val = ttest_ind(interacted_mean, recommended_mean, equal_var=False, nan_policy='omit')\n",
    "\n",
    "        # Сохранение результатов\n",
    "        stat_test_results[user] = {'t_stat': t_stat, 'p_val': p_val}\n",
    "\n",
    "        # Вывод результатов для каждого пользователя\n",
    "        print(f'User {user}: t_stat = {t_stat:.5f}, p_val = {p_val:.5f}')\n",
    "\n",
    "# Преобразуем в DataFrame для удобного анализа\n",
    "stat_test_results_df = pd.DataFrame.from_dict(stat_test_results, orient='index')\n",
    "\n",
    "# Подсчет доли пользователей, у которых p_val > 0.05\n",
    "no_significant_diff_ratio = (stat_test_results_df['p_val'] > 0.05).mean()\n",
    "print(f'Доля пользователей, у которых нет статистически значимой разницы: {no_significant_diff_ratio:.2%}')\n"
   ]
  },
  {
   "cell_type": "markdown",
   "metadata": {
    "id": "9fGAL3XPZUnc"
   },
   "source": [
    "если p_val > 0.05, то нет оснований полагать, что есть стат. значимая разница => рекомендации были хорошими для всех юзеров"
   ]
  },
  {
   "cell_type": "code",
   "execution_count": null,
   "metadata": {
    "id": "j0i6sSoXXZ-U"
   },
   "outputs": [],
   "source": []
  }
 ],
 "metadata": {
  "colab": {
   "provenance": []
  },
  "kernelspec": {
   "display_name": ".venv",
   "language": "python",
   "name": "python3"
  },
  "language_info": {
   "codemirror_mode": {
    "name": "ipython",
    "version": 3
   },
   "file_extension": ".py",
   "mimetype": "text/x-python",
   "name": "python",
   "nbconvert_exporter": "python",
   "pygments_lexer": "ipython3",
   "version": "3.9.6"
  }
 },
 "nbformat": 4,
 "nbformat_minor": 0
}
