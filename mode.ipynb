{
 "cells": [
  {
   "cell_type": "code",
   "execution_count": 1,
   "metadata": {},
   "outputs": [
    {
     "name": "stdout",
     "output_type": "stream",
     "text": [
      "utils.py загр\n"
     ]
    },
    {
     "name": "stderr",
     "output_type": "stream",
     "text": [
      "/Users/andrey_kiseleq/Documents/vs_code/itmo/rec_systems/.venv/lib/python3.9/site-packages/sklearn/utils/extmath.py:203: RuntimeWarning:\n",
      "\n",
      "divide by zero encountered in matmul\n",
      "\n",
      "/Users/andrey_kiseleq/Documents/vs_code/itmo/rec_systems/.venv/lib/python3.9/site-packages/sklearn/utils/extmath.py:203: RuntimeWarning:\n",
      "\n",
      "overflow encountered in matmul\n",
      "\n",
      "/Users/andrey_kiseleq/Documents/vs_code/itmo/rec_systems/.venv/lib/python3.9/site-packages/sklearn/utils/extmath.py:203: RuntimeWarning:\n",
      "\n",
      "invalid value encountered in matmul\n",
      "\n"
     ]
    },
    {
     "data": {
      "text/html": [
       "<div>\n",
       "<style scoped>\n",
       "    .dataframe tbody tr th:only-of-type {\n",
       "        vertical-align: middle;\n",
       "    }\n",
       "\n",
       "    .dataframe tbody tr th {\n",
       "        vertical-align: top;\n",
       "    }\n",
       "\n",
       "    .dataframe thead th {\n",
       "        text-align: right;\n",
       "    }\n",
       "</style>\n",
       "<table border=\"1\" class=\"dataframe\">\n",
       "  <thead>\n",
       "    <tr style=\"text-align: right;\">\n",
       "      <th></th>\n",
       "      <th>id</th>\n",
       "      <th>price</th>\n",
       "      <th>level</th>\n",
       "      <th>rooms</th>\n",
       "      <th>area</th>\n",
       "      <th>kitchen_area</th>\n",
       "      <th>geo_lat</th>\n",
       "      <th>geo_lon</th>\n",
       "    </tr>\n",
       "  </thead>\n",
       "  <tbody>\n",
       "    <tr>\n",
       "      <th>0</th>\n",
       "      <td>615</td>\n",
       "      <td>6655460</td>\n",
       "      <td>8</td>\n",
       "      <td>-1</td>\n",
       "      <td>27.40</td>\n",
       "      <td>0.0</td>\n",
       "      <td>55.881954</td>\n",
       "      <td>37.501923</td>\n",
       "    </tr>\n",
       "    <tr>\n",
       "      <th>1</th>\n",
       "      <td>3623</td>\n",
       "      <td>6686836</td>\n",
       "      <td>7</td>\n",
       "      <td>1</td>\n",
       "      <td>25.09</td>\n",
       "      <td>0.0</td>\n",
       "      <td>55.792997</td>\n",
       "      <td>37.740690</td>\n",
       "    </tr>\n",
       "    <tr>\n",
       "      <th>2</th>\n",
       "      <td>66</td>\n",
       "      <td>6500000</td>\n",
       "      <td>8</td>\n",
       "      <td>-1</td>\n",
       "      <td>24.80</td>\n",
       "      <td>0.0</td>\n",
       "      <td>55.521764</td>\n",
       "      <td>37.354620</td>\n",
       "    </tr>\n",
       "    <tr>\n",
       "      <th>3</th>\n",
       "      <td>808</td>\n",
       "      <td>6923977</td>\n",
       "      <td>10</td>\n",
       "      <td>-1</td>\n",
       "      <td>27.50</td>\n",
       "      <td>0.0</td>\n",
       "      <td>55.707644</td>\n",
       "      <td>37.749274</td>\n",
       "    </tr>\n",
       "    <tr>\n",
       "      <th>4</th>\n",
       "      <td>3621</td>\n",
       "      <td>6558909</td>\n",
       "      <td>7</td>\n",
       "      <td>1</td>\n",
       "      <td>24.61</td>\n",
       "      <td>0.0</td>\n",
       "      <td>55.792997</td>\n",
       "      <td>37.740690</td>\n",
       "    </tr>\n",
       "    <tr>\n",
       "      <th>5</th>\n",
       "      <td>234</td>\n",
       "      <td>6500000</td>\n",
       "      <td>10</td>\n",
       "      <td>-1</td>\n",
       "      <td>27.00</td>\n",
       "      <td>0.0</td>\n",
       "      <td>55.967260</td>\n",
       "      <td>37.153689</td>\n",
       "    </tr>\n",
       "    <tr>\n",
       "      <th>6</th>\n",
       "      <td>19</td>\n",
       "      <td>6884515</td>\n",
       "      <td>6</td>\n",
       "      <td>-1</td>\n",
       "      <td>30.50</td>\n",
       "      <td>0.0</td>\n",
       "      <td>55.449414</td>\n",
       "      <td>36.999877</td>\n",
       "    </tr>\n",
       "    <tr>\n",
       "      <th>7</th>\n",
       "      <td>3622</td>\n",
       "      <td>6724534</td>\n",
       "      <td>12</td>\n",
       "      <td>1</td>\n",
       "      <td>24.61</td>\n",
       "      <td>0.0</td>\n",
       "      <td>55.792997</td>\n",
       "      <td>37.740690</td>\n",
       "    </tr>\n",
       "    <tr>\n",
       "      <th>8</th>\n",
       "      <td>57</td>\n",
       "      <td>6630000</td>\n",
       "      <td>3</td>\n",
       "      <td>-1</td>\n",
       "      <td>28.00</td>\n",
       "      <td>0.0</td>\n",
       "      <td>55.548706</td>\n",
       "      <td>37.311112</td>\n",
       "    </tr>\n",
       "    <tr>\n",
       "      <th>9</th>\n",
       "      <td>1208</td>\n",
       "      <td>6500000</td>\n",
       "      <td>10</td>\n",
       "      <td>1</td>\n",
       "      <td>23.60</td>\n",
       "      <td>0.0</td>\n",
       "      <td>55.623345</td>\n",
       "      <td>37.304879</td>\n",
       "    </tr>\n",
       "  </tbody>\n",
       "</table>\n",
       "</div>"
      ],
      "text/plain": [
       "     id    price  level  rooms   area  kitchen_area    geo_lat    geo_lon\n",
       "0   615  6655460      8     -1  27.40           0.0  55.881954  37.501923\n",
       "1  3623  6686836      7      1  25.09           0.0  55.792997  37.740690\n",
       "2    66  6500000      8     -1  24.80           0.0  55.521764  37.354620\n",
       "3   808  6923977     10     -1  27.50           0.0  55.707644  37.749274\n",
       "4  3621  6558909      7      1  24.61           0.0  55.792997  37.740690\n",
       "5   234  6500000     10     -1  27.00           0.0  55.967260  37.153689\n",
       "6    19  6884515      6     -1  30.50           0.0  55.449414  36.999877\n",
       "7  3622  6724534     12      1  24.61           0.0  55.792997  37.740690\n",
       "8    57  6630000      3     -1  28.00           0.0  55.548706  37.311112\n",
       "9  1208  6500000     10      1  23.60           0.0  55.623345  37.304879"
      ]
     },
     "execution_count": 1,
     "metadata": {},
     "output_type": "execute_result"
    }
   ],
   "source": [
    "import pandas as pd\n",
    "import sys\n",
    "sys.path.append('.')  # Добавляем текущую директорию в путь поиска модулей\n",
    "from utils import rec_system\n",
    "\n",
    "# user_id=666\n",
    "# user_type=1\n",
    "\n",
    "test = rec_system(pd.DataFrame({'Type': [1]}))\n",
    "test\n"
   ]
  },
  {
   "cell_type": "code",
   "execution_count": null,
   "metadata": {},
   "outputs": [],
   "source": [
    "test = pd.DataFrame({'Type': [1]})"
   ]
  },
  {
   "cell_type": "code",
   "execution_count": null,
   "metadata": {},
   "outputs": [
    {
     "data": {
      "text/plain": [
       "np.int64(1)"
      ]
     },
     "execution_count": 12,
     "metadata": {},
     "output_type": "execute_result"
    }
   ],
   "source": [
    "test['Type'][0]"
   ]
  },
  {
   "cell_type": "code",
   "execution_count": 15,
   "metadata": {},
   "outputs": [
    {
     "data": {
      "text/plain": [
       "3"
      ]
     },
     "execution_count": 15,
     "metadata": {},
     "output_type": "execute_result"
    }
   ],
   "source": [
    "user_type = int(test['Type'][0])\n",
    "user_type + 2"
   ]
  },
  {
   "cell_type": "code",
   "execution_count": 19,
   "metadata": {
    "colab": {
     "base_uri": "https://localhost:8080/"
    },
    "executionInfo": {
     "elapsed": 96,
     "status": "ok",
     "timestamp": 1743226085667,
     "user": {
      "displayName": "Андрей Киселёв",
      "userId": "12642439380291679610"
     },
     "user_tz": -180
    },
    "id": "NebWbZs2YZqL",
    "outputId": "48a0d2cd-0d5f-48d3-b343-e5d33cb3826b"
   },
   "outputs": [
    {
     "name": "stdout",
     "output_type": "stream",
     "text": [
      "User 666: t_stat = -0.00778, p_val = 0.99390\n",
      "Доля пользователей, у которых нет статистически значимой разницы: 100.00%\n"
     ]
    }
   ],
   "source": [
    "# Создадим структуру для хранения результатов тестов\n",
    "stat_test_results = {}\n",
    "\n",
    "# Выполнение t-теста для каждого пользователя\n",
    "for user in final_recommendations.keys():\n",
    "    interacted_obj_ids = user_actions[user_actions['user_id'] == user]['obj_id']\n",
    "    recommended_obj_ids = final_recommendations[user]\n",
    "\n",
    "    interacted_objects = homes_fixed.loc[homes_fixed.index.intersection(interacted_obj_ids)]\n",
    "    recommended_objects = homes_fixed.loc[homes_fixed.index.intersection(recommended_obj_ids)]\n",
    "\n",
    "    if not interacted_objects.empty and not recommended_objects.empty:\n",
    "        # Средние значения по объектам\n",
    "        interacted_mean = interacted_objects.mean(axis=0)\n",
    "        recommended_mean = recommended_objects.mean(axis=0)\n",
    "\n",
    "        # Проведение t-теста\n",
    "        t_stat, p_val = ttest_ind(interacted_mean, recommended_mean, equal_var=False, nan_policy='omit')\n",
    "\n",
    "        # Сохранение результатов\n",
    "        stat_test_results[user] = {'t_stat': t_stat, 'p_val': p_val}\n",
    "\n",
    "        # Вывод результатов для каждого пользователя\n",
    "        print(f'User {user}: t_stat = {t_stat:.5f}, p_val = {p_val:.5f}')\n",
    "\n",
    "# Преобразуем в DataFrame для удобного анализа\n",
    "stat_test_results_df = pd.DataFrame.from_dict(stat_test_results, orient='index')\n",
    "\n",
    "# Подсчет доли пользователей, у которых p_val > 0.05\n",
    "no_significant_diff_ratio = (stat_test_results_df['p_val'] > 0.05).mean()\n",
    "print(f'Доля пользователей, у которых нет статистически значимой разницы: {no_significant_diff_ratio:.2%}')\n"
   ]
  },
  {
   "cell_type": "markdown",
   "metadata": {
    "id": "9fGAL3XPZUnc"
   },
   "source": [
    "если p_val > 0.05, то нет оснований полагать, что есть стат. значимая разница => рекомендации были хорошими для всех юзеров"
   ]
  },
  {
   "cell_type": "code",
   "execution_count": null,
   "metadata": {
    "id": "j0i6sSoXXZ-U"
   },
   "outputs": [],
   "source": []
  }
 ],
 "metadata": {
  "colab": {
   "provenance": []
  },
  "kernelspec": {
   "display_name": ".venv",
   "language": "python",
   "name": "python3"
  },
  "language_info": {
   "codemirror_mode": {
    "name": "ipython",
    "version": 3
   },
   "file_extension": ".py",
   "mimetype": "text/x-python",
   "name": "python",
   "nbconvert_exporter": "python",
   "pygments_lexer": "ipython3",
   "version": "3.9.6"
  }
 },
 "nbformat": 4,
 "nbformat_minor": 0
}
