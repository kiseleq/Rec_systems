{
 "cells": [
  {
   "cell_type": "code",
   "execution_count": 27,
   "metadata": {},
   "outputs": [
    {
     "name": "stdout",
     "output_type": "stream",
     "text": [
      "The autoreload extension is already loaded. To reload it, use:\n",
      "  %reload_ext autoreload\n"
     ]
    }
   ],
   "source": [
    "%load_ext autoreload\n",
    "%autoreload 2"
   ]
  },
  {
   "cell_type": "code",
   "execution_count": 28,
   "metadata": {},
   "outputs": [
    {
     "ename": "ImportError",
     "evalue": "cannot import name 'get_recommended_homes' from 'utils' (/Users/andrey_kiseleq/Documents/vs_code/itmo/rec_systems/utils.py)",
     "output_type": "error",
     "traceback": [
      "\u001b[0;31m---------------------------------------------------------------------------\u001b[0m",
      "\u001b[0;31mImportError\u001b[0m                               Traceback (most recent call last)",
      "Cell \u001b[0;32mIn[28], line 6\u001b[0m\n\u001b[1;32m      4\u001b[0m \u001b[38;5;28;01mfrom\u001b[39;00m\u001b[38;5;250m \u001b[39m\u001b[38;5;21;01mutils\u001b[39;00m\u001b[38;5;250m \u001b[39m\u001b[38;5;28;01mimport\u001b[39;00m search_history\n\u001b[1;32m      5\u001b[0m \u001b[38;5;28;01mfrom\u001b[39;00m\u001b[38;5;250m \u001b[39m\u001b[38;5;21;01mutils\u001b[39;00m\u001b[38;5;250m \u001b[39m\u001b[38;5;28;01mimport\u001b[39;00m make_recommendations\n\u001b[0;32m----> 6\u001b[0m \u001b[38;5;28;01mfrom\u001b[39;00m\u001b[38;5;250m \u001b[39m\u001b[38;5;21;01mutils\u001b[39;00m\u001b[38;5;250m \u001b[39m\u001b[38;5;28;01mimport\u001b[39;00m get_recommended_homes\n\u001b[1;32m      9\u001b[0m user_id\u001b[38;5;241m=\u001b[39m\u001b[38;5;241m666\u001b[39m\n\u001b[1;32m     10\u001b[0m user_type\u001b[38;5;241m=\u001b[39m\u001b[38;5;241m3\u001b[39m\n",
      "\u001b[0;31mImportError\u001b[0m: cannot import name 'get_recommended_homes' from 'utils' (/Users/andrey_kiseleq/Documents/vs_code/itmo/rec_systems/utils.py)"
     ]
    }
   ],
   "source": [
    "import pandas as pd\n",
    "import sys\n",
    "sys.path.append('.')  # Добавляем текущую директорию в путь поиска модулей\n",
    "from utils import search_history\n",
    "from utils import make_recommendations\n",
    "from utils import get_recommended_homes\n",
    "\n",
    "\n",
    "user_id=666\n",
    "user_type=3\n",
    "\n",
    "user_actions = search_history(user_id, user_type)\n",
    "homes = pd.read_csv('data/homes_fixed_scaled.csv')\n",
    "recs = make_recommendations(homes, user_actions)"
   ]
  },
  {
   "cell_type": "code",
   "execution_count": null,
   "metadata": {},
   "outputs": [
    {
     "ename": "ImportError",
     "evalue": "cannot import name 'get_recommended_homes' from 'utils' (/Users/andrey_kiseleq/Documents/vs_code/itmo/rec_systems/utils.py)",
     "output_type": "error",
     "traceback": [
      "\u001b[0;31m---------------------------------------------------------------------------\u001b[0m",
      "\u001b[0;31mImportError\u001b[0m                               Traceback (most recent call last)",
      "Cell \u001b[0;32mIn[23], line 1\u001b[0m\n\u001b[0;32m----> 1\u001b[0m \u001b[38;5;28;01mfrom\u001b[39;00m\u001b[38;5;250m \u001b[39m\u001b[38;5;21;01mutils\u001b[39;00m\u001b[38;5;250m \u001b[39m\u001b[38;5;28;01mimport\u001b[39;00m get_recommended_homes\n",
      "\u001b[0;31mImportError\u001b[0m: cannot import name 'get_recommended_homes' from 'utils' (/Users/andrey_kiseleq/Documents/vs_code/itmo/rec_systems/utils.py)"
     ]
    }
   ],
   "source": []
  },
  {
   "cell_type": "code",
   "execution_count": 9,
   "metadata": {},
   "outputs": [
    {
     "data": {
      "text/plain": [
       "[7749, 8669, 7705, 6609, 8828, 8182, 6845, 4773, 9344, 8419]"
      ]
     },
     "execution_count": 9,
     "metadata": {},
     "output_type": "execute_result"
    }
   ],
   "source": [
    "recs[user_id]"
   ]
  },
  {
   "cell_type": "code",
   "execution_count": 15,
   "metadata": {},
   "outputs": [],
   "source": [
    "def get_recommended_homes(recommendation, user_id):\n",
    "    homes_origin = pd.read_csv('data/homes_new.csv')\n",
    "    \n",
    "    # Фильтруем только рекомендованные дома\n",
    "    recommended_ids = recommendation[user_id]\n",
    "    filtered = homes_origin[homes_origin['id'].isin(recommended_ids)]\n",
    "    \n",
    "    # Сортируем по порядку в списке recommendation[user_id]\n",
    "    filtered = filtered.set_index('id').loc[recommended_ids].reset_index()\n",
    "\n",
    "    return filtered.drop(columns='geo_sum')\n",
    "\n"
   ]
  },
  {
   "cell_type": "code",
   "execution_count": 16,
   "metadata": {},
   "outputs": [],
   "source": [
    "test = get_recommended_homes(recs, user_id)"
   ]
  },
  {
   "cell_type": "code",
   "execution_count": 17,
   "metadata": {},
   "outputs": [
    {
     "data": {
      "text/html": [
       "<div>\n",
       "<style scoped>\n",
       "    .dataframe tbody tr th:only-of-type {\n",
       "        vertical-align: middle;\n",
       "    }\n",
       "\n",
       "    .dataframe tbody tr th {\n",
       "        vertical-align: top;\n",
       "    }\n",
       "\n",
       "    .dataframe thead th {\n",
       "        text-align: right;\n",
       "    }\n",
       "</style>\n",
       "<table border=\"1\" class=\"dataframe\">\n",
       "  <thead>\n",
       "    <tr style=\"text-align: right;\">\n",
       "      <th></th>\n",
       "      <th>id</th>\n",
       "      <th>price</th>\n",
       "      <th>level</th>\n",
       "      <th>rooms</th>\n",
       "      <th>area</th>\n",
       "      <th>kitchen_area</th>\n",
       "      <th>geo_lat</th>\n",
       "      <th>geo_lon</th>\n",
       "    </tr>\n",
       "  </thead>\n",
       "  <tbody>\n",
       "    <tr>\n",
       "      <th>0</th>\n",
       "      <td>7749</td>\n",
       "      <td>18890000</td>\n",
       "      <td>9</td>\n",
       "      <td>3</td>\n",
       "      <td>59.40</td>\n",
       "      <td>6.7</td>\n",
       "      <td>55.675778</td>\n",
       "      <td>37.511436</td>\n",
       "    </tr>\n",
       "    <tr>\n",
       "      <th>1</th>\n",
       "      <td>8669</td>\n",
       "      <td>18944664</td>\n",
       "      <td>9</td>\n",
       "      <td>3</td>\n",
       "      <td>60.18</td>\n",
       "      <td>0.0</td>\n",
       "      <td>55.754047</td>\n",
       "      <td>37.620405</td>\n",
       "    </tr>\n",
       "    <tr>\n",
       "      <th>2</th>\n",
       "      <td>7705</td>\n",
       "      <td>18999000</td>\n",
       "      <td>9</td>\n",
       "      <td>3</td>\n",
       "      <td>58.20</td>\n",
       "      <td>6.0</td>\n",
       "      <td>55.645395</td>\n",
       "      <td>37.522863</td>\n",
       "    </tr>\n",
       "    <tr>\n",
       "      <th>3</th>\n",
       "      <td>6609</td>\n",
       "      <td>18523120</td>\n",
       "      <td>7</td>\n",
       "      <td>2</td>\n",
       "      <td>60.80</td>\n",
       "      <td>0.0</td>\n",
       "      <td>55.808689</td>\n",
       "      <td>37.647212</td>\n",
       "    </tr>\n",
       "    <tr>\n",
       "      <th>4</th>\n",
       "      <td>8828</td>\n",
       "      <td>18500000</td>\n",
       "      <td>6</td>\n",
       "      <td>3</td>\n",
       "      <td>63.30</td>\n",
       "      <td>7.1</td>\n",
       "      <td>55.832480</td>\n",
       "      <td>37.568713</td>\n",
       "    </tr>\n",
       "    <tr>\n",
       "      <th>5</th>\n",
       "      <td>8182</td>\n",
       "      <td>18506500</td>\n",
       "      <td>7</td>\n",
       "      <td>3</td>\n",
       "      <td>63.43</td>\n",
       "      <td>0.0</td>\n",
       "      <td>55.782041</td>\n",
       "      <td>37.509694</td>\n",
       "    </tr>\n",
       "    <tr>\n",
       "      <th>6</th>\n",
       "      <td>6845</td>\n",
       "      <td>18540102</td>\n",
       "      <td>13</td>\n",
       "      <td>2</td>\n",
       "      <td>61.90</td>\n",
       "      <td>0.0</td>\n",
       "      <td>55.810503</td>\n",
       "      <td>37.701472</td>\n",
       "    </tr>\n",
       "    <tr>\n",
       "      <th>7</th>\n",
       "      <td>4773</td>\n",
       "      <td>18800000</td>\n",
       "      <td>6</td>\n",
       "      <td>2</td>\n",
       "      <td>60.00</td>\n",
       "      <td>9.6</td>\n",
       "      <td>55.798470</td>\n",
       "      <td>37.389420</td>\n",
       "    </tr>\n",
       "    <tr>\n",
       "      <th>8</th>\n",
       "      <td>9344</td>\n",
       "      <td>18549825</td>\n",
       "      <td>11</td>\n",
       "      <td>3</td>\n",
       "      <td>62.30</td>\n",
       "      <td>9.5</td>\n",
       "      <td>55.700243</td>\n",
       "      <td>37.919974</td>\n",
       "    </tr>\n",
       "    <tr>\n",
       "      <th>9</th>\n",
       "      <td>8419</td>\n",
       "      <td>19500000</td>\n",
       "      <td>4</td>\n",
       "      <td>3</td>\n",
       "      <td>64.10</td>\n",
       "      <td>0.0</td>\n",
       "      <td>55.721560</td>\n",
       "      <td>37.619719</td>\n",
       "    </tr>\n",
       "  </tbody>\n",
       "</table>\n",
       "</div>"
      ],
      "text/plain": [
       "     id     price  level  rooms   area  kitchen_area    geo_lat    geo_lon\n",
       "0  7749  18890000      9      3  59.40           6.7  55.675778  37.511436\n",
       "1  8669  18944664      9      3  60.18           0.0  55.754047  37.620405\n",
       "2  7705  18999000      9      3  58.20           6.0  55.645395  37.522863\n",
       "3  6609  18523120      7      2  60.80           0.0  55.808689  37.647212\n",
       "4  8828  18500000      6      3  63.30           7.1  55.832480  37.568713\n",
       "5  8182  18506500      7      3  63.43           0.0  55.782041  37.509694\n",
       "6  6845  18540102     13      2  61.90           0.0  55.810503  37.701472\n",
       "7  4773  18800000      6      2  60.00           9.6  55.798470  37.389420\n",
       "8  9344  18549825     11      3  62.30           9.5  55.700243  37.919974\n",
       "9  8419  19500000      4      3  64.10           0.0  55.721560  37.619719"
      ]
     },
     "execution_count": 17,
     "metadata": {},
     "output_type": "execute_result"
    }
   ],
   "source": [
    "test"
   ]
  },
  {
   "cell_type": "code",
   "execution_count": 18,
   "metadata": {},
   "outputs": [],
   "source": [
    "final_recommendations = recs\n",
    "homes_fixed = homes.copy()"
   ]
  },
  {
   "cell_type": "code",
   "execution_count": 19,
   "metadata": {
    "colab": {
     "base_uri": "https://localhost:8080/"
    },
    "executionInfo": {
     "elapsed": 96,
     "status": "ok",
     "timestamp": 1743226085667,
     "user": {
      "displayName": "Андрей Киселёв",
      "userId": "12642439380291679610"
     },
     "user_tz": -180
    },
    "id": "NebWbZs2YZqL",
    "outputId": "48a0d2cd-0d5f-48d3-b343-e5d33cb3826b"
   },
   "outputs": [
    {
     "name": "stdout",
     "output_type": "stream",
     "text": [
      "User 666: t_stat = -0.00778, p_val = 0.99390\n",
      "Доля пользователей, у которых нет статистически значимой разницы: 100.00%\n"
     ]
    }
   ],
   "source": [
    "# Создадим структуру для хранения результатов тестов\n",
    "stat_test_results = {}\n",
    "\n",
    "# Выполнение t-теста для каждого пользователя\n",
    "for user in final_recommendations.keys():\n",
    "    interacted_obj_ids = user_actions[user_actions['user_id'] == user]['obj_id']\n",
    "    recommended_obj_ids = final_recommendations[user]\n",
    "\n",
    "    interacted_objects = homes_fixed.loc[homes_fixed.index.intersection(interacted_obj_ids)]\n",
    "    recommended_objects = homes_fixed.loc[homes_fixed.index.intersection(recommended_obj_ids)]\n",
    "\n",
    "    if not interacted_objects.empty and not recommended_objects.empty:\n",
    "        # Средние значения по объектам\n",
    "        interacted_mean = interacted_objects.mean(axis=0)\n",
    "        recommended_mean = recommended_objects.mean(axis=0)\n",
    "\n",
    "        # Проведение t-теста\n",
    "        t_stat, p_val = ttest_ind(interacted_mean, recommended_mean, equal_var=False, nan_policy='omit')\n",
    "\n",
    "        # Сохранение результатов\n",
    "        stat_test_results[user] = {'t_stat': t_stat, 'p_val': p_val}\n",
    "\n",
    "        # Вывод результатов для каждого пользователя\n",
    "        print(f'User {user}: t_stat = {t_stat:.5f}, p_val = {p_val:.5f}')\n",
    "\n",
    "# Преобразуем в DataFrame для удобного анализа\n",
    "stat_test_results_df = pd.DataFrame.from_dict(stat_test_results, orient='index')\n",
    "\n",
    "# Подсчет доли пользователей, у которых p_val > 0.05\n",
    "no_significant_diff_ratio = (stat_test_results_df['p_val'] > 0.05).mean()\n",
    "print(f'Доля пользователей, у которых нет статистически значимой разницы: {no_significant_diff_ratio:.2%}')\n"
   ]
  },
  {
   "cell_type": "markdown",
   "metadata": {
    "id": "9fGAL3XPZUnc"
   },
   "source": [
    "если p_val > 0.05, то нет оснований полагать, что есть стат. значимая разница => рекомендации были хорошими для всех юзеров"
   ]
  },
  {
   "cell_type": "code",
   "execution_count": null,
   "metadata": {
    "id": "j0i6sSoXXZ-U"
   },
   "outputs": [],
   "source": []
  }
 ],
 "metadata": {
  "colab": {
   "provenance": []
  },
  "kernelspec": {
   "display_name": ".venv",
   "language": "python",
   "name": "python3"
  },
  "language_info": {
   "codemirror_mode": {
    "name": "ipython",
    "version": 3
   },
   "file_extension": ".py",
   "mimetype": "text/x-python",
   "name": "python",
   "nbconvert_exporter": "python",
   "pygments_lexer": "ipython3",
   "version": "3.9.6"
  }
 },
 "nbformat": 4,
 "nbformat_minor": 0
}
