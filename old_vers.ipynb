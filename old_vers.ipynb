{
 "cells": [
  {
   "cell_type": "code",
   "execution_count": 4,
   "metadata": {
    "executionInfo": {
     "elapsed": 56,
     "status": "ok",
     "timestamp": 1743233253553,
     "user": {
      "displayName": "Андрей Киселёв",
      "userId": "12642439380291679610"
     },
     "user_tz": -180
    },
    "id": "BA-KDF_1hb7K"
   },
   "outputs": [],
   "source": [
    "import pandas as pd\n",
    "import numpy as np\n",
    "import matplotlib.pyplot as plt\n",
    "import seaborn as sns\n",
    "import plotly.express as px\n",
    "import plotly.figure_factory as ff\n",
    "\n",
    "\n",
    "from sklearn.preprocessing import StandardScaler, OneHotEncoder\n",
    "from sklearn.model_selection import train_test_split, GridSearchCV\n",
    "from sklearn.tree import DecisionTreeClassifier\n",
    "from sklearn.ensemble import RandomForestClassifier\n",
    "from sklearn.neighbors import KNeighborsClassifier\n",
    "from sklearn.svm import SVC\n",
    "from sklearn.metrics import confusion_matrix, classification_report\n",
    "from sklearn.inspection import permutation_importance\n",
    "from sklearn.metrics.pairwise import cosine_similarity\n",
    "from scipy.stats import ttest_ind\n",
    "from sklearn.preprocessing import MinMaxScaler\n"
   ]
  },
  {
   "cell_type": "code",
   "execution_count": null,
   "metadata": {
    "executionInfo": {
     "elapsed": 36,
     "status": "ok",
     "timestamp": 1743233253722,
     "user": {
      "displayName": "Андрей Киселёв",
      "userId": "12642439380291679610"
     },
     "user_tz": -180
    },
    "id": "8VKtkoWmiJ5e"
   },
   "outputs": [],
   "source": [
    "user_actions = pd.read_csv('/Users/andrey_kiseleq/Documents/vs_code/itmo/rec_systems/data/user_actions.csv')\n",
    "homes = pd.read_csv('/Users/andrey_kiseleq/Documents/vs_code/itmo/rec_systems/data/homes_new.csv')"
   ]
  },
  {
   "cell_type": "code",
   "execution_count": 3,
   "metadata": {
    "executionInfo": {
     "elapsed": 67,
     "status": "ok",
     "timestamp": 1743233259553,
     "user": {
      "displayName": "Андрей Киселёв",
      "userId": "12642439380291679610"
     },
     "user_tz": -180
    },
    "id": "RmDUr3C7N0jV"
   },
   "outputs": [],
   "source": [
    "# Нормализация числовых признаков\n",
    "numeric_features = ['price', 'level', 'rooms', 'area', 'kitchen_area', 'geo_sum']\n",
    "scaler = StandardScaler()\n",
    "homes[numeric_features] = scaler.fit_transform(homes[numeric_features])"
   ]
  },
  {
   "cell_type": "code",
   "execution_count": null,
   "metadata": {
    "executionInfo": {
     "elapsed": 16,
     "status": "ok",
     "timestamp": 1743233260785,
     "user": {
      "displayName": "Андрей Киселёв",
      "userId": "12642439380291679610"
     },
     "user_tz": -180
    },
    "id": "rtmpFTG0OM20"
   },
   "outputs": [],
   "source": [
    "homes = homes[['price',\t'level', 'rooms', 'area',\t'kitchen_area',\t'geo_sum', 'id']]"
   ]
  },
  {
   "cell_type": "code",
   "execution_count": 5,
   "metadata": {
    "colab": {
     "base_uri": "https://localhost:8080/",
     "height": 423
    },
    "executionInfo": {
     "elapsed": 138,
     "status": "ok",
     "timestamp": 1743233283763,
     "user": {
      "displayName": "Андрей Киселёв",
      "userId": "12642439380291679610"
     },
     "user_tz": -180
    },
    "id": "DmI2U6LJzOra",
    "outputId": "645c8785-20e1-422e-a6bd-a6df649297f6"
   },
   "outputs": [
    {
     "data": {
      "text/html": [
       "<div>\n",
       "<style scoped>\n",
       "    .dataframe tbody tr th:only-of-type {\n",
       "        vertical-align: middle;\n",
       "    }\n",
       "\n",
       "    .dataframe tbody tr th {\n",
       "        vertical-align: top;\n",
       "    }\n",
       "\n",
       "    .dataframe thead th {\n",
       "        text-align: right;\n",
       "    }\n",
       "</style>\n",
       "<table border=\"1\" class=\"dataframe\">\n",
       "  <thead>\n",
       "    <tr style=\"text-align: right;\">\n",
       "      <th></th>\n",
       "      <th>price</th>\n",
       "      <th>level</th>\n",
       "      <th>rooms</th>\n",
       "      <th>area</th>\n",
       "      <th>kitchen_area</th>\n",
       "      <th>geo_sum</th>\n",
       "      <th>id</th>\n",
       "    </tr>\n",
       "  </thead>\n",
       "  <tbody>\n",
       "    <tr>\n",
       "      <th>0</th>\n",
       "      <td>-0.384262</td>\n",
       "      <td>1.776204</td>\n",
       "      <td>-2.065946</td>\n",
       "      <td>-0.986463</td>\n",
       "      <td>-0.014410</td>\n",
       "      <td>-9.848709</td>\n",
       "      <td>1</td>\n",
       "    </tr>\n",
       "    <tr>\n",
       "      <th>1</th>\n",
       "      <td>-0.381294</td>\n",
       "      <td>1.497514</td>\n",
       "      <td>-2.065946</td>\n",
       "      <td>-0.981173</td>\n",
       "      <td>-0.014410</td>\n",
       "      <td>-9.848709</td>\n",
       "      <td>2</td>\n",
       "    </tr>\n",
       "    <tr>\n",
       "      <th>2</th>\n",
       "      <td>-0.389474</td>\n",
       "      <td>0.661443</td>\n",
       "      <td>-2.065946</td>\n",
       "      <td>-0.985260</td>\n",
       "      <td>-0.014410</td>\n",
       "      <td>-9.848709</td>\n",
       "      <td>3</td>\n",
       "    </tr>\n",
       "    <tr>\n",
       "      <th>3</th>\n",
       "      <td>-0.404111</td>\n",
       "      <td>1.776204</td>\n",
       "      <td>-2.065946</td>\n",
       "      <td>-0.986463</td>\n",
       "      <td>-0.014410</td>\n",
       "      <td>-9.848709</td>\n",
       "      <td>4</td>\n",
       "    </tr>\n",
       "    <tr>\n",
       "      <th>4</th>\n",
       "      <td>-0.376288</td>\n",
       "      <td>1.218824</td>\n",
       "      <td>-2.065946</td>\n",
       "      <td>-0.942219</td>\n",
       "      <td>-0.014410</td>\n",
       "      <td>-9.848709</td>\n",
       "      <td>5</td>\n",
       "    </tr>\n",
       "    <tr>\n",
       "      <th>...</th>\n",
       "      <td>...</td>\n",
       "      <td>...</td>\n",
       "      <td>...</td>\n",
       "      <td>...</td>\n",
       "      <td>...</td>\n",
       "      <td>...</td>\n",
       "      <td>...</td>\n",
       "    </tr>\n",
       "    <tr>\n",
       "      <th>9995</th>\n",
       "      <td>2.594037</td>\n",
       "      <td>-0.871353</td>\n",
       "      <td>3.908234</td>\n",
       "      <td>6.345961</td>\n",
       "      <td>1.274461</td>\n",
       "      <td>0.284550</td>\n",
       "      <td>9996</td>\n",
       "    </tr>\n",
       "    <tr>\n",
       "      <th>9996</th>\n",
       "      <td>1.385781</td>\n",
       "      <td>1.358169</td>\n",
       "      <td>3.908234</td>\n",
       "      <td>4.109733</td>\n",
       "      <td>0.731611</td>\n",
       "      <td>0.492606</td>\n",
       "      <td>9997</td>\n",
       "    </tr>\n",
       "    <tr>\n",
       "      <th>9997</th>\n",
       "      <td>2.284744</td>\n",
       "      <td>-0.174627</td>\n",
       "      <td>4.655007</td>\n",
       "      <td>7.884871</td>\n",
       "      <td>0.988751</td>\n",
       "      <td>-0.224879</td>\n",
       "      <td>9998</td>\n",
       "    </tr>\n",
       "    <tr>\n",
       "      <th>9998</th>\n",
       "      <td>0.152379</td>\n",
       "      <td>-0.453318</td>\n",
       "      <td>4.655007</td>\n",
       "      <td>4.085688</td>\n",
       "      <td>0.493520</td>\n",
       "      <td>0.086122</td>\n",
       "      <td>9999</td>\n",
       "    </tr>\n",
       "    <tr>\n",
       "      <th>9999</th>\n",
       "      <td>13.797766</td>\n",
       "      <td>-0.313972</td>\n",
       "      <td>5.401779</td>\n",
       "      <td>7.221216</td>\n",
       "      <td>-0.014410</td>\n",
       "      <td>0.121384</td>\n",
       "      <td>10000</td>\n",
       "    </tr>\n",
       "  </tbody>\n",
       "</table>\n",
       "<p>10000 rows × 7 columns</p>\n",
       "</div>"
      ],
      "text/plain": [
       "          price     level     rooms      area  kitchen_area   geo_sum     id\n",
       "0     -0.384262  1.776204 -2.065946 -0.986463     -0.014410 -9.848709      1\n",
       "1     -0.381294  1.497514 -2.065946 -0.981173     -0.014410 -9.848709      2\n",
       "2     -0.389474  0.661443 -2.065946 -0.985260     -0.014410 -9.848709      3\n",
       "3     -0.404111  1.776204 -2.065946 -0.986463     -0.014410 -9.848709      4\n",
       "4     -0.376288  1.218824 -2.065946 -0.942219     -0.014410 -9.848709      5\n",
       "...         ...       ...       ...       ...           ...       ...    ...\n",
       "9995   2.594037 -0.871353  3.908234  6.345961      1.274461  0.284550   9996\n",
       "9996   1.385781  1.358169  3.908234  4.109733      0.731611  0.492606   9997\n",
       "9997   2.284744 -0.174627  4.655007  7.884871      0.988751 -0.224879   9998\n",
       "9998   0.152379 -0.453318  4.655007  4.085688      0.493520  0.086122   9999\n",
       "9999  13.797766 -0.313972  5.401779  7.221216     -0.014410  0.121384  10000\n",
       "\n",
       "[10000 rows x 7 columns]"
      ]
     },
     "execution_count": 5,
     "metadata": {},
     "output_type": "execute_result"
    }
   ],
   "source": [
    "homes"
   ]
  },
  {
   "cell_type": "code",
   "execution_count": null,
   "metadata": {},
   "outputs": [
    {
     "name": "stdout",
     "output_type": "stream",
     "text": [
      "utils.py загружен\n"
     ]
    },
    {
     "name": "stderr",
     "output_type": "stream",
     "text": [
      "/Users/andrey_kiseleq/Documents/vs_code/itmo/rec_systems/.venv/lib/python3.9/site-packages/sklearn/utils/extmath.py:203: RuntimeWarning:\n",
      "\n",
      "divide by zero encountered in matmul\n",
      "\n",
      "/Users/andrey_kiseleq/Documents/vs_code/itmo/rec_systems/.venv/lib/python3.9/site-packages/sklearn/utils/extmath.py:203: RuntimeWarning:\n",
      "\n",
      "overflow encountered in matmul\n",
      "\n",
      "/Users/andrey_kiseleq/Documents/vs_code/itmo/rec_systems/.venv/lib/python3.9/site-packages/sklearn/utils/extmath.py:203: RuntimeWarning:\n",
      "\n",
      "invalid value encountered in matmul\n",
      "\n"
     ]
    }
   ],
   "source": [
    "import pandas as pd\n",
    "import sys\n",
    "sys.path.append('.')  # Добавляем текущую директорию в путь поиска модулей\n",
    "from utils import search_history\n",
    "from utils import make_recommendations\n",
    "\n",
    "\n",
    "user_actions = search_history(user_id=666, user_type=3)\n",
    "homes = pd.read_csv('data/homes_fixed_scaled.csv')\n",
    "recs = make_recommendations(homes, user_actions)"
   ]
  },
  {
   "cell_type": "code",
   "execution_count": 26,
   "metadata": {
    "colab": {
     "base_uri": "https://localhost:8080/"
    },
    "executionInfo": {
     "elapsed": 39,
     "status": "ok",
     "timestamp": 1743226085441,
     "user": {
      "displayName": "Андрей Киселёв",
      "userId": "12642439380291679610"
     },
     "user_tz": -180
    },
    "id": "VRKxgf2rQFe_",
    "outputId": "860465c4-7882-4726-dd92-4d11eb4d0551"
   },
   "outputs": [
    {
     "name": "stderr",
     "output_type": "stream",
     "text": [
      "/Users/andrey_kiseleq/Documents/vs_code/itmo/rec_systems/.venv/lib/python3.9/site-packages/sklearn/utils/extmath.py:203: RuntimeWarning:\n",
      "\n",
      "divide by zero encountered in matmul\n",
      "\n",
      "/Users/andrey_kiseleq/Documents/vs_code/itmo/rec_systems/.venv/lib/python3.9/site-packages/sklearn/utils/extmath.py:203: RuntimeWarning:\n",
      "\n",
      "overflow encountered in matmul\n",
      "\n",
      "/Users/andrey_kiseleq/Documents/vs_code/itmo/rec_systems/.venv/lib/python3.9/site-packages/sklearn/utils/extmath.py:203: RuntimeWarning:\n",
      "\n",
      "invalid value encountered in matmul\n",
      "\n"
     ]
    },
    {
     "data": {
      "text/plain": [
       "{999: [410, 54, 183, 564, 595, 60, 62, 66, 86, 234]}"
      ]
     },
     "execution_count": 26,
     "metadata": {},
     "output_type": "execute_result"
    }
   ],
   "source": [
    "# Объединение данных по объектам\n",
    "homes_fixed.set_index('id', inplace=True)\n",
    "\n",
    "# Группировка действий пользователей\n",
    "user_profiles = {}\n",
    "for user, actions in user_actions.groupby('user_id'):\n",
    "    interacted_obj_ids = actions['obj_id'].unique()\n",
    "    interacted_objects = homes_fixed.loc[homes_fixed.index.intersection(interacted_obj_ids)]\n",
    "\n",
    "    if not interacted_objects.empty:\n",
    "        user_profiles[user] = interacted_objects.mean(axis=0)\n",
    "\n",
    "# Преобразование профилей пользователей в DataFrame\n",
    "user_profiles_df = pd.DataFrame.from_dict(user_profiles, orient='index')\n",
    "\n",
    "# Вычисление косинусного сходства между пользователем и объектами\n",
    "similarity_matrix = cosine_similarity(user_profiles_df, homes_fixed)\n",
    "\n",
    "# Создание DataFrame с рекомендациями\n",
    "recommendations = pd.DataFrame(similarity_matrix, index=user_profiles_df.index, columns=homes_fixed.index)\n",
    "\n",
    "# Выбор 10 объектов, с которыми пользователь не взаимодействовал\n",
    "final_recommendations = {}\n",
    "for user in user_profiles_df.index:\n",
    "    interacted = set(user_actions[user_actions['user_id'] == user]['obj_id'])\n",
    "    sorted_recs = recommendations.loc[user].drop(index=interacted).nlargest(10)\n",
    "    final_recommendations[user] = sorted_recs.index.tolist()\n",
    "\n",
    "# Вывод рекомендаций (id)\n",
    "final_recommendations\n"
   ]
  },
  {
   "cell_type": "code",
   "execution_count": null,
   "metadata": {},
   "outputs": [],
   "source": []
  },
  {
   "cell_type": "markdown",
   "metadata": {},
   "source": [
    "Ниже оценка рек. системы с помощью стат. теста \n"
   ]
  },
  {
   "cell_type": "code",
   "execution_count": null,
   "metadata": {
    "colab": {
     "base_uri": "https://localhost:8080/"
    },
    "executionInfo": {
     "elapsed": 96,
     "status": "ok",
     "timestamp": 1743226085667,
     "user": {
      "displayName": "Андрей Киселёв",
      "userId": "12642439380291679610"
     },
     "user_tz": -180
    },
    "id": "NebWbZs2YZqL",
    "outputId": "48a0d2cd-0d5f-48d3-b343-e5d33cb3826b"
   },
   "outputs": [
    {
     "name": "stdout",
     "output_type": "stream",
     "text": [
      "User 1: t_stat = 0.24174, p_val = 0.81505\n",
      "User 2: t_stat = -0.14729, p_val = 0.88584\n",
      "User 3: t_stat = -1.20257, p_val = 0.26678\n",
      "User 4: t_stat = -0.65137, p_val = 0.53312\n",
      "User 5: t_stat = -0.89812, p_val = 0.40147\n",
      "Доля пользователей, у которых нет статистически значимой разницы: 100.00%\n"
     ]
    }
   ],
   "source": [
    "# Создадим структуру для хранения результатов тестов\n",
    "stat_test_results = {}\n",
    "\n",
    "# Выполнение t-теста для каждого пользователя\n",
    "for user in final_recommendations.keys():\n",
    "    interacted_obj_ids = user_actions[user_actions['user_id'] == user]['obj_id']\n",
    "    recommended_obj_ids = final_recommendations[user]\n",
    "\n",
    "    interacted_objects = homes_fixed.loc[homes_fixed.index.intersection(interacted_obj_ids)]\n",
    "    recommended_objects = homes_fixed.loc[homes_fixed.index.intersection(recommended_obj_ids)]\n",
    "\n",
    "    if not interacted_objects.empty and not recommended_objects.empty:\n",
    "        # Средние значения по объектам\n",
    "        interacted_mean = interacted_objects.mean(axis=0)\n",
    "        recommended_mean = recommended_objects.mean(axis=0)\n",
    "\n",
    "        # Проведение t-теста\n",
    "        t_stat, p_val = ttest_ind(interacted_mean, recommended_mean, equal_var=False, nan_policy='omit')\n",
    "\n",
    "        # Сохранение результатов\n",
    "        stat_test_results[user] = {'t_stat': t_stat, 'p_val': p_val}\n",
    "\n",
    "        # Вывод результатов для каждого пользователя\n",
    "        print(f'User {user}: t_stat = {t_stat:.5f}, p_val = {p_val:.5f}')\n",
    "\n",
    "# Преобразуем в DataFrame для удобного анализа\n",
    "stat_test_results_df = pd.DataFrame.from_dict(stat_test_results, orient='index')\n",
    "\n",
    "# Подсчет доли пользователей, у которых p_val > 0.05\n",
    "no_significant_diff_ratio = (stat_test_results_df['p_val'] > 0.05).mean()\n",
    "print(f'Доля пользователей, у которых нет статистически значимой разницы: {no_significant_diff_ratio:.2%}')\n"
   ]
  },
  {
   "cell_type": "markdown",
   "metadata": {
    "id": "9fGAL3XPZUnc"
   },
   "source": [
    "если p_val > 0.05, то нет оснований полагать, что есть стат. значимая разница => рекомендации были хорошими для всех юзеров"
   ]
  },
  {
   "cell_type": "code",
   "execution_count": null,
   "metadata": {
    "id": "j0i6sSoXXZ-U"
   },
   "outputs": [],
   "source": []
  }
 ],
 "metadata": {
  "colab": {
   "provenance": []
  },
  "kernelspec": {
   "display_name": ".venv",
   "language": "python",
   "name": "python3"
  },
  "language_info": {
   "codemirror_mode": {
    "name": "ipython",
    "version": 3
   },
   "file_extension": ".py",
   "mimetype": "text/x-python",
   "name": "python",
   "nbconvert_exporter": "python",
   "pygments_lexer": "ipython3",
   "version": "3.9.6"
  }
 },
 "nbformat": 4,
 "nbformat_minor": 0
}
